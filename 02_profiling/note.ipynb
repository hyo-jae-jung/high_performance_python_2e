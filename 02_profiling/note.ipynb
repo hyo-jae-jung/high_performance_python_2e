{
 "cells": [
  {
   "cell_type": "code",
   "execution_count": 10,
   "metadata": {},
   "outputs": [
    {
     "name": "stdout",
     "output_type": "stream",
     "text": [
      "2.384185791015625e-07 second\n",
      "<function elapsed.<locals>.wrapper at 0x7f0c06c05e50>\n",
      "Help on function wrapper in module __main__:\n",
      "\n",
      "wrapper(*args, **kwargs)\n",
      "\n"
     ]
    }
   ],
   "source": [
    "import time \n",
    "\n",
    "def elapsed(func):\n",
    "    def wrapper(*args, **kwargs):\n",
    "        start = time.time()\n",
    "        result = func(*args,**kwargs)\n",
    "        end = time.time()\n",
    "        print(end-start, 'second')\n",
    "    return wrapper\n",
    "\n",
    "@elapsed\n",
    "def add(a,b):\n",
    "    \"\"\" 두 수 a,b를 더한 값을 리턴하는 함수 \"\"\"\n",
    "    return a + b\n",
    "\n",
    "result = add(3,4)\n",
    "print(add)\n",
    "help(add)"
   ]
  },
  {
   "cell_type": "code",
   "execution_count": 11,
   "metadata": {},
   "outputs": [
    {
     "name": "stdout",
     "output_type": "stream",
     "text": [
      "4.76837158203125e-07 second\n",
      "<function add at 0x7f0c06c05550>\n",
      "Help on function add in module __main__:\n",
      "\n",
      "add(a, b)\n",
      "    두 수 a,b를 더한 값을 리턴하는 함수\n",
      "\n"
     ]
    }
   ],
   "source": [
    "import time \n",
    "from functools import wraps\n",
    "\n",
    "def elapsed(func):\n",
    "    @wraps(func)\n",
    "    def wrapper(*args, **kwargs):\n",
    "        start = time.time()\n",
    "        result = func(*args,**kwargs)\n",
    "        end = time.time()\n",
    "        print(end-start, 'second')\n",
    "    return wrapper\n",
    "\n",
    "@elapsed\n",
    "def add(a,b):\n",
    "    \"\"\" 두 수 a,b를 더한 값을 리턴하는 함수 \"\"\"\n",
    "    return a + b\n",
    "\n",
    "result = add(3,4)\n",
    "\n",
    "print(add)\n",
    "help(add)"
   ]
  },
  {
   "cell_type": "code",
   "execution_count": 13,
   "metadata": {},
   "outputs": [
    {
     "name": "stdout",
     "output_type": "stream",
     "text": [
      "0.12377381324768066\n"
     ]
    }
   ],
   "source": [
    "import time \n",
    "\n",
    "def time_check(func):\n",
    "    def wrapper(*args,**kwargs):\n",
    "        start = time.time()\n",
    "        result = func(*args,**kwargs)\n",
    "        end = time.time()\n",
    "        print(end-start)\n",
    "        return result\n",
    "    return wrapper\n",
    "\n",
    "@time_check\n",
    "def loop(n):\n",
    "    for _ in range(n):\n",
    "        pass\n",
    "    return\n",
    "\n",
    "loop(10000000)"
   ]
  }
 ],
 "metadata": {
  "kernelspec": {
   "display_name": "Python 3",
   "language": "python",
   "name": "python3"
  },
  "language_info": {
   "codemirror_mode": {
    "name": "ipython",
    "version": 3
   },
   "file_extension": ".py",
   "mimetype": "text/x-python",
   "name": "python",
   "nbconvert_exporter": "python",
   "pygments_lexer": "ipython3",
   "version": "3.8.10"
  },
  "orig_nbformat": 4
 },
 "nbformat": 4,
 "nbformat_minor": 2
}
